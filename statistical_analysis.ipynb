{
 "cells": [
  {
   "cell_type": "code",
   "execution_count": 1,
   "id": "6936f2c0",
   "metadata": {},
   "outputs": [],
   "source": [
    "from analysis.stock_52_weeks import *\n",
    "from plot_chart import *\n",
    "from analysis.technical_indicator import *\n",
    "from analysis.top_20_stocks import *\n",
    "from krx_wr_script import *\n",
    "from analysis.bot_strategy import *\n",
    "from datetime import datetime, timedelta, date\n",
    "from util import *\n",
    "import pandas as pd\n",
    "from pykrx import stock\n",
    "import matplotlib.pyplot as plt\n",
    "from finta import TA\n",
    "import yfinance as yf\n",
    "import matplotlib.pyplot as plt\n",
    "from glob import glob\n",
    "util_m = util()\n"
   ]
  },
  {
   "cell_type": "code",
   "execution_count": 2,
   "id": "c31f0110",
   "metadata": {},
   "outputs": [
    {
     "data": {
      "text/plain": [
       "2414"
      ]
     },
     "execution_count": 2,
     "metadata": {},
     "output_type": "execute_result"
    }
   ],
   "source": [
    "ROOT = './Krx_Chart_folder'\n",
    "stocks = [x.split('/')[-1] for x in glob(f\"{ROOT}/*\")]\n",
    "len(stocks)"
   ]
  },
  {
   "cell_type": "code",
   "execution_count": 3,
   "id": "8f9103a7",
   "metadata": {
    "scrolled": true
   },
   "outputs": [
    {
     "data": {
      "text/html": [
       "<div>\n",
       "<style scoped>\n",
       "    .dataframe tbody tr th:only-of-type {\n",
       "        vertical-align: middle;\n",
       "    }\n",
       "\n",
       "    .dataframe tbody tr th {\n",
       "        vertical-align: top;\n",
       "    }\n",
       "\n",
       "    .dataframe thead th {\n",
       "        text-align: right;\n",
       "    }\n",
       "</style>\n",
       "<table border=\"1\" class=\"dataframe\">\n",
       "  <thead>\n",
       "    <tr style=\"text-align: right;\">\n",
       "      <th></th>\n",
       "      <th>date</th>\n",
       "      <th>open</th>\n",
       "      <th>high</th>\n",
       "      <th>low</th>\n",
       "      <th>close</th>\n",
       "      <th>volume</th>\n",
       "    </tr>\n",
       "  </thead>\n",
       "  <tbody>\n",
       "    <tr>\n",
       "      <th>0</th>\n",
       "      <td>2019-01-02</td>\n",
       "      <td>20774</td>\n",
       "      <td>21075</td>\n",
       "      <td>20372</td>\n",
       "      <td>20473</td>\n",
       "      <td>173462</td>\n",
       "    </tr>\n",
       "    <tr>\n",
       "      <th>1</th>\n",
       "      <td>2019-01-03</td>\n",
       "      <td>20573</td>\n",
       "      <td>21175</td>\n",
       "      <td>20172</td>\n",
       "      <td>20573</td>\n",
       "      <td>293989</td>\n",
       "    </tr>\n",
       "    <tr>\n",
       "      <th>2</th>\n",
       "      <td>2019-01-04</td>\n",
       "      <td>20473</td>\n",
       "      <td>20874</td>\n",
       "      <td>20372</td>\n",
       "      <td>20774</td>\n",
       "      <td>251728</td>\n",
       "    </tr>\n",
       "    <tr>\n",
       "      <th>3</th>\n",
       "      <td>2019-01-07</td>\n",
       "      <td>21073</td>\n",
       "      <td>21474</td>\n",
       "      <td>20472</td>\n",
       "      <td>20673</td>\n",
       "      <td>378153</td>\n",
       "    </tr>\n",
       "    <tr>\n",
       "      <th>4</th>\n",
       "      <td>2019-01-08</td>\n",
       "      <td>20571</td>\n",
       "      <td>20671</td>\n",
       "      <td>19970</td>\n",
       "      <td>20051</td>\n",
       "      <td>450462</td>\n",
       "    </tr>\n",
       "    <tr>\n",
       "      <th>...</th>\n",
       "      <td>...</td>\n",
       "      <td>...</td>\n",
       "      <td>...</td>\n",
       "      <td>...</td>\n",
       "      <td>...</td>\n",
       "      <td>...</td>\n",
       "    </tr>\n",
       "    <tr>\n",
       "      <th>604</th>\n",
       "      <td>2021-06-14</td>\n",
       "      <td>136000</td>\n",
       "      <td>143000</td>\n",
       "      <td>136000</td>\n",
       "      <td>142500</td>\n",
       "      <td>6240394</td>\n",
       "    </tr>\n",
       "    <tr>\n",
       "      <th>605</th>\n",
       "      <td>2021-06-15</td>\n",
       "      <td>143500</td>\n",
       "      <td>144500</td>\n",
       "      <td>140500</td>\n",
       "      <td>144500</td>\n",
       "      <td>4950329</td>\n",
       "    </tr>\n",
       "    <tr>\n",
       "      <th>606</th>\n",
       "      <td>2021-06-16</td>\n",
       "      <td>144000</td>\n",
       "      <td>146000</td>\n",
       "      <td>142500</td>\n",
       "      <td>143000</td>\n",
       "      <td>4996272</td>\n",
       "    </tr>\n",
       "    <tr>\n",
       "      <th>607</th>\n",
       "      <td>2021-06-17</td>\n",
       "      <td>142000</td>\n",
       "      <td>149500</td>\n",
       "      <td>140500</td>\n",
       "      <td>148000</td>\n",
       "      <td>5408889</td>\n",
       "    </tr>\n",
       "    <tr>\n",
       "      <th>608</th>\n",
       "      <td>2021-06-18</td>\n",
       "      <td>150000</td>\n",
       "      <td>157500</td>\n",
       "      <td>149500</td>\n",
       "      <td>155000</td>\n",
       "      <td>7643972</td>\n",
       "    </tr>\n",
       "  </tbody>\n",
       "</table>\n",
       "<p>609 rows × 6 columns</p>\n",
       "</div>"
      ],
      "text/plain": [
       "           date    open    high     low   close   volume\n",
       "0    2019-01-02   20774   21075   20372   20473   173462\n",
       "1    2019-01-03   20573   21175   20172   20573   293989\n",
       "2    2019-01-04   20473   20874   20372   20774   251728\n",
       "3    2019-01-07   21073   21474   20472   20673   378153\n",
       "4    2019-01-08   20571   20671   19970   20051   450462\n",
       "..          ...     ...     ...     ...     ...      ...\n",
       "604  2021-06-14  136000  143000  136000  142500  6240394\n",
       "605  2021-06-15  143500  144500  140500  144500  4950329\n",
       "606  2021-06-16  144000  146000  142500  143000  4996272\n",
       "607  2021-06-17  142000  149500  140500  148000  5408889\n",
       "608  2021-06-18  150000  157500  149500  155000  7643972\n",
       "\n",
       "[609 rows x 6 columns]"
      ]
     },
     "execution_count": 3,
     "metadata": {},
     "output_type": "execute_result"
    }
   ],
   "source": [
    "util_m.stock_name = '카카오'\n",
    "stock_csv = pykrx_read_csv(stock_name = util_m.stock_name, \n",
    "                           Krx_Char_folder_path = './Krx_Chart_folder')\n",
    "\n",
    "stock_csv"
   ]
  },
  {
   "cell_type": "code",
   "execution_count": 5,
   "id": "29e3bd66",
   "metadata": {
    "scrolled": true
   },
   "outputs": [
    {
     "data": {
      "text/html": [
       "<div>\n",
       "<style scoped>\n",
       "    .dataframe tbody tr th:only-of-type {\n",
       "        vertical-align: middle;\n",
       "    }\n",
       "\n",
       "    .dataframe tbody tr th {\n",
       "        vertical-align: top;\n",
       "    }\n",
       "\n",
       "    .dataframe thead th {\n",
       "        text-align: right;\n",
       "    }\n",
       "</style>\n",
       "<table border=\"1\" class=\"dataframe\">\n",
       "  <thead>\n",
       "    <tr style=\"text-align: right;\">\n",
       "      <th></th>\n",
       "      <th>date</th>\n",
       "      <th>open</th>\n",
       "      <th>high</th>\n",
       "      <th>low</th>\n",
       "      <th>close</th>\n",
       "      <th>volume</th>\n",
       "    </tr>\n",
       "  </thead>\n",
       "  <tbody>\n",
       "    <tr>\n",
       "      <th>608</th>\n",
       "      <td>2021-06-18</td>\n",
       "      <td>150000</td>\n",
       "      <td>157500</td>\n",
       "      <td>149500</td>\n",
       "      <td>155000</td>\n",
       "      <td>7643972</td>\n",
       "    </tr>\n",
       "  </tbody>\n",
       "</table>\n",
       "</div>"
      ],
      "text/plain": [
       "           date    open    high     low   close   volume\n",
       "608  2021-06-18  150000  157500  149500  155000  7643972"
      ]
     },
     "execution_count": 5,
     "metadata": {},
     "output_type": "execute_result"
    }
   ],
   "source": [
    "recent_high = stock_csv['high'].values.max()\n",
    "stock_csv[stock_csv['high']==recent_high]"
   ]
  },
  {
   "cell_type": "code",
   "execution_count": 24,
   "id": "820d778f",
   "metadata": {},
   "outputs": [],
   "source": [
    "# high before 20200101\n",
    "stock_csv_20200101 = stock_csv[stock_csv['date'] < date(2020, 1, 1).strftime(\"%Y-%m-%d\")]"
   ]
  },
  {
   "cell_type": "code",
   "execution_count": 25,
   "id": "63d2123c",
   "metadata": {
    "scrolled": true
   },
   "outputs": [
    {
     "data": {
      "text/plain": [
       "array(['2019-01-02', '2019-01-03', '2019-01-04', '2019-01-07',\n",
       "       '2019-01-08', '2019-01-09', '2019-01-10', '2019-01-11',\n",
       "       '2019-01-14', '2019-01-15', '2019-01-16', '2019-01-17',\n",
       "       '2019-01-18', '2019-01-21', '2019-01-22', '2019-01-23',\n",
       "       '2019-01-24', '2019-01-25', '2019-01-28', '2019-01-29',\n",
       "       '2019-01-30', '2019-01-31', '2019-02-01', '2019-02-07',\n",
       "       '2019-02-08', '2019-02-11', '2019-02-12', '2019-02-13',\n",
       "       '2019-02-14', '2019-02-15', '2019-02-18', '2019-02-19',\n",
       "       '2019-02-20', '2019-02-21', '2019-02-22', '2019-02-25',\n",
       "       '2019-02-26', '2019-02-27', '2019-02-28', '2019-03-04',\n",
       "       '2019-03-05', '2019-03-06', '2019-03-07', '2019-03-08',\n",
       "       '2019-03-11', '2019-03-12', '2019-03-13', '2019-03-14',\n",
       "       '2019-03-15', '2019-03-18', '2019-03-19', '2019-03-20',\n",
       "       '2019-03-21', '2019-03-22', '2019-03-25', '2019-03-26',\n",
       "       '2019-03-27', '2019-03-28', '2019-03-29', '2019-04-01',\n",
       "       '2019-04-02', '2019-04-03', '2019-04-04', '2019-04-05',\n",
       "       '2019-04-08', '2019-04-09', '2019-04-10', '2019-04-11',\n",
       "       '2019-04-12', '2019-04-15', '2019-04-16', '2019-04-17',\n",
       "       '2019-04-18', '2019-04-19', '2019-04-22', '2019-04-23',\n",
       "       '2019-04-24', '2019-04-25', '2019-04-26', '2019-04-29',\n",
       "       '2019-04-30', '2019-05-02', '2019-05-03', '2019-05-07',\n",
       "       '2019-05-08', '2019-05-09', '2019-05-10', '2019-05-13',\n",
       "       '2019-05-14', '2019-05-15', '2019-05-16', '2019-05-17',\n",
       "       '2019-05-20', '2019-05-21', '2019-05-22', '2019-05-23',\n",
       "       '2019-05-24', '2019-05-27', '2019-05-28', '2019-05-29',\n",
       "       '2019-05-30', '2019-05-31', '2019-06-03', '2019-06-04',\n",
       "       '2019-06-05', '2019-06-07', '2019-06-10', '2019-06-11',\n",
       "       '2019-06-12', '2019-06-13', '2019-06-14', '2019-06-17',\n",
       "       '2019-06-18', '2019-06-19', '2019-06-20', '2019-06-21',\n",
       "       '2019-06-24', '2019-06-25', '2019-06-26', '2019-06-27',\n",
       "       '2019-06-28', '2019-07-01', '2019-07-02', '2019-07-03',\n",
       "       '2019-07-04', '2019-07-05', '2019-07-08', '2019-07-09',\n",
       "       '2019-07-10', '2019-07-11', '2019-07-12', '2019-07-15',\n",
       "       '2019-07-16', '2019-07-17', '2019-07-18', '2019-07-19',\n",
       "       '2019-07-22', '2019-07-23', '2019-07-24', '2019-07-25',\n",
       "       '2019-07-26', '2019-07-29', '2019-07-30', '2019-07-31',\n",
       "       '2019-08-01', '2019-08-02', '2019-08-05', '2019-08-06',\n",
       "       '2019-08-07', '2019-08-08', '2019-08-09', '2019-08-12',\n",
       "       '2019-08-13', '2019-08-14', '2019-08-16', '2019-08-19',\n",
       "       '2019-08-20', '2019-08-21', '2019-08-22', '2019-08-23',\n",
       "       '2019-08-26', '2019-08-27', '2019-08-28', '2019-08-29',\n",
       "       '2019-08-30', '2019-09-02', '2019-09-03', '2019-09-04',\n",
       "       '2019-09-05', '2019-09-06', '2019-09-09', '2019-09-10',\n",
       "       '2019-09-11', '2019-09-16', '2019-09-17', '2019-09-18',\n",
       "       '2019-09-19', '2019-09-20', '2019-09-23', '2019-09-24',\n",
       "       '2019-09-25', '2019-09-26', '2019-09-27', '2019-09-30',\n",
       "       '2019-10-01', '2019-10-02', '2019-10-04', '2019-10-07',\n",
       "       '2019-10-08', '2019-10-10', '2019-10-11', '2019-10-14',\n",
       "       '2019-10-15', '2019-10-16', '2019-10-17', '2019-10-18',\n",
       "       '2019-10-21', '2019-10-22', '2019-10-23', '2019-10-24',\n",
       "       '2019-10-25', '2019-10-28', '2019-10-29', '2019-10-30',\n",
       "       '2019-10-31', '2019-11-01', '2019-11-04', '2019-11-05',\n",
       "       '2019-11-06', '2019-11-07', '2019-11-08', '2019-11-11',\n",
       "       '2019-11-12', '2019-11-13', '2019-11-14', '2019-11-15',\n",
       "       '2019-11-18', '2019-11-19', '2019-11-20', '2019-11-21',\n",
       "       '2019-11-22', '2019-11-25', '2019-11-26', '2019-11-27',\n",
       "       '2019-11-28', '2019-11-29', '2019-12-02', '2019-12-03',\n",
       "       '2019-12-04', '2019-12-05', '2019-12-06', '2019-12-09',\n",
       "       '2019-12-10', '2019-12-11', '2019-12-12', '2019-12-13',\n",
       "       '2019-12-16', '2019-12-17', '2019-12-18', '2019-12-19',\n",
       "       '2019-12-20', '2019-12-23', '2019-12-24', '2019-12-26',\n",
       "       '2019-12-27', '2019-12-30'], dtype=object)"
      ]
     },
     "execution_count": 25,
     "metadata": {},
     "output_type": "execute_result"
    }
   ],
   "source": [
    "stock_csv_20200101.set_index('date', drop=True, inplace=True)\n",
    "stock_csv_20200101.index.values"
   ]
  },
  {
   "cell_type": "code",
   "execution_count": 36,
   "id": "59d09a54",
   "metadata": {},
   "outputs": [
    {
     "name": "stdout",
     "output_type": "stream",
     "text": [
      "* The high between 2019-01-02 ~ 2019-12-30\n",
      ">>> 31,913 KRW at ['2019-11-20' '2019-11-29']\n"
     ]
    },
    {
     "data": {
      "image/png": "[encoded data removed]",
      "text/plain": [
       "<Figure size 1080x504 with 1 Axes>"
      ]
     },
     "metadata": {},
     "output_type": "display_data"
    }
   ],
   "source": [
    "plt.rcParams['figure.figsize']=(15,7)\n",
    "stock_csv_20200101['high'].plot()\n",
    "print(f\"* The high between {stock_csv_20200101.index[0]} ~ {stock_csv_20200101.index[-1]}\")\n",
    "print(f\">>> {stock_csv_20200101['high'].values.max():,} KRW at {stock_csv_20200101[stock_csv_20200101['high']==stock_csv_20200101['high'].values.max()].index.values}\")"
   ]
  }
 ],
 "metadata": {
  "kernelspec": {
   "display_name": "Python 3",
   "language": "python",
   "name": "python3"
  },
  "language_info": {
   "codemirror_mode": {
    "name": "ipython",
    "version": 3
   },
   "file_extension": ".py",
   "mimetype": "text/x-python",
   "name": "python",
   "nbconvert_exporter": "python",
   "pygments_lexer": "ipython3",
   "version": "3.8.8"
  }
 },
 "nbformat": 4,
 "nbformat_minor": 5
}
